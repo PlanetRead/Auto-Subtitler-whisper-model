{
 "cells": [
  {
   "cell_type": "code",
   "execution_count": 1,
   "metadata": {},
   "outputs": [],
   "source": [
    "import torch\n",
    "import soundfile as sf"
   ]
  },
  {
   "cell_type": "code",
   "execution_count": 2,
   "metadata": {},
   "outputs": [],
   "source": [
    "from huggingface_hub import HfApi, ModelCard, ModelCardData, ModelFilter"
   ]
  },
  {
   "cell_type": "code",
   "execution_count": null,
   "metadata": {},
   "outputs": [],
   "source": [
    "import nemo.collections.asr as nemo_asr"
   ]
  },
  {
   "cell_type": "code",
   "execution_count": 7,
   "metadata": {},
   "outputs": [],
   "source": [
    "# model = nemo_asr.models.ASRModel.from_pretrained(\"ai4bharat/indicconformer_stt_pa_hybrid_rnnt_large\")"
   ]
  },
  {
   "cell_type": "code",
   "execution_count": 8,
   "metadata": {},
   "outputs": [],
   "source": [
    "device = torch.device(\"cuda\" if torch.cuda.is_available() else \"cpu\")\n",
    "# model.freeze() # inference mode\n",
    "# model = model.to(device) # transfer model to device"
   ]
  },
  {
   "cell_type": "code",
   "execution_count": null,
   "metadata": {},
   "outputs": [],
   "source": [
    "model = nemo_asr.models.EncDecCTCModel.restore_from(restore_path='../data/ai4b_indicConformer_pa.nemo')\n",
    "model.eval() # inference mode\n",
    "model = model.to(device) # transfer model to device"
   ]
  },
  {
   "cell_type": "code",
   "execution_count": 10,
   "metadata": {},
   "outputs": [],
   "source": [
    "AUDIO_FILE =  \"/home/arjun/naren/subtitle_alignment/data/Punjabi/Audio/AniBook Videos/Abdul_Kalam,_Missile_Man_Punjabi.wav\""
   ]
  },
  {
   "cell_type": "code",
   "execution_count": null,
   "metadata": {},
   "outputs": [],
   "source": [
    "model.cur_decoder = \"rnnt\"\n",
    "rnnt_text = model.transcribe([AUDIO_FILE], batch_size=1, language_id='pa')[0]"
   ]
  },
  {
   "cell_type": "code",
   "execution_count": null,
   "metadata": {},
   "outputs": [],
   "source": [
    "rnnt_text"
   ]
  },
  {
   "cell_type": "markdown",
   "metadata": {},
   "source": [
    "## Timestamps"
   ]
  },
  {
   "cell_type": "code",
   "execution_count": null,
   "metadata": {},
   "outputs": [],
   "source": [
    "# 2) Pass a decoding config to enable timestamps\n",
    "decoding_cfg = model.cfg.decoding\n",
    "# Create a new decoding config dictionary\n",
    "decoding_cfg = {\n",
    "    \"strategy\": \"greedy\",\n",
    "    \"preserve_alignments\": True,\n",
    "    \"compute_timestamps\": True,\n",
    "    \"return_timestamps\": True\n",
    "}\n",
    "\n",
    "\n",
    "# If the model’s decoding config doesn't have `return_timestamps`, \n",
    "# you can manually add/override it:\n",
    "#   decoding_cfg[\"return_timestamps\"] = True\n",
    "\n",
    "model.change_decoding_strategy(decoding_cfg)"
   ]
  },
  {
   "cell_type": "code",
   "execution_count": null,
   "metadata": {},
   "outputs": [],
   "source": []
  }
 ],
 "metadata": {
  "kernelspec": {
   "display_name": "alignment",
   "language": "python",
   "name": "python3"
  },
  "language_info": {
   "codemirror_mode": {
    "name": "ipython",
    "version": 3
   },
   "file_extension": ".py",
   "mimetype": "text/x-python",
   "name": "python",
   "nbconvert_exporter": "python",
   "pygments_lexer": "ipython3",
   "version": "3.10.16"
  }
 },
 "nbformat": 4,
 "nbformat_minor": 2
}
