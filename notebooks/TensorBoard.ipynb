{
 "cells": [
  {
   "cell_type": "markdown",
   "metadata": {},
   "source": [
    "# Visualize the training process"
   ]
  },
  {
   "cell_type": "code",
   "execution_count": 31,
   "metadata": {},
   "outputs": [],
   "source": [
    "from tensorboard.backend.event_processing import event_accumulator\n",
    "\n",
    "import matplotlib.pyplot as plt\n",
    "import numpy as np"
   ]
  },
  {
   "cell_type": "code",
   "execution_count": null,
   "metadata": {},
   "outputs": [],
   "source": [
    "# read the tfevents file\n",
    "tf_events_file = \"/spiral_hdd_2/workspace/naren/models/whisper-large-v2-pa-5/runs/Jan30_06-42-22_intel-inference-eus2\"\n",
    "event_file = event_accumulator.EventAccumulator(tf_events_file)  # Use the actual file path instead of 'runs/'\n",
    "event_file.Reload()\n",
    "\n",
    "# print the event file\n",
    "print(event_file.Tags())  # First check available tags"
   ]
  },
  {
   "cell_type": "code",
   "execution_count": null,
   "metadata": {},
   "outputs": [],
   "source": [
    "\n",
    "# Get the scalar data\n",
    "train_loss = event_file.Scalars('train/loss')  # Adjust tag name if different\n",
    "val_loss = event_file.Scalars('eval/loss')      # Adjust tag name if different\n",
    "\n",
    "# Extract steps and values\n",
    "train_steps = [x.step for x in train_loss]\n",
    "train_values = [x.value for x in train_loss]\n",
    "val_steps = [x.step for x in val_loss]\n",
    "val_values = [x.value for x in val_loss]\n",
    "\n",
    "\n",
    "# Create the plot\n",
    "plt.figure(figsize=(10, 6))\n",
    "plt.plot(train_steps, train_values, label='Training Loss', alpha=0.8)\n",
    "plt.plot(val_steps, val_values, label='Validation Loss', alpha=0.8)\n",
    "\n",
    "plt.xlabel('Steps')\n",
    "plt.ylabel('Loss')\n",
    "plt.title('Training and Validation Loss')\n",
    "plt.legend()\n",
    "plt.grid(True, alpha=0.3)\n",
    "\n",
    "# Optional: Use log scale if losses vary widely\n",
    "# plt.yscale('log')\n",
    "\n",
    "plt.show()"
   ]
  },
  {
   "cell_type": "code",
   "execution_count": null,
   "metadata": {},
   "outputs": [],
   "source": [
    "wer = event_file.Scalars('eval/wer')      # Adjust tag name if different\n",
    "\n",
    "wer_steps = [x.step for x in wer]\n",
    "wer_values = [x.value for x in wer]\n",
    "\n",
    "plt.figure(figsize=(10, 6))\n",
    "plt.plot(wer_steps, wer_values, label='WER', alpha=0.8)\n",
    "\n",
    "plt.xlabel('Steps')\n",
    "plt.ylabel('WER')\n",
    "plt.title('WER')\n",
    "plt.legend()\n",
    "plt.grid(True, alpha=0.3)\n",
    "\n",
    "# Optional: Use log scale if losses vary widely\n",
    "# plt.yscale('log')\n",
    "\n",
    "plt.show()"
   ]
  },
  {
   "cell_type": "code",
   "execution_count": 21,
   "metadata": {},
   "outputs": [],
   "source": [
    "# # Launch TensorBoard\n",
    "# %load_ext tensorboard\n",
    "# %tensorboard --logdir=\"/spiral_hdd_2/workspace/naren/models/whisper-large-v2-pa-4/runs/\""
   ]
  },
  {
   "cell_type": "code",
   "execution_count": null,
   "metadata": {},
   "outputs": [],
   "source": []
  }
 ],
 "metadata": {
  "kernelspec": {
   "display_name": "nemo",
   "language": "python",
   "name": "python3"
  },
  "language_info": {
   "codemirror_mode": {
    "name": "ipython",
    "version": 3
   },
   "file_extension": ".py",
   "mimetype": "text/x-python",
   "name": "python",
   "nbconvert_exporter": "python",
   "pygments_lexer": "ipython3",
   "version": "3.10.16"
  }
 },
 "nbformat": 4,
 "nbformat_minor": 2
}
